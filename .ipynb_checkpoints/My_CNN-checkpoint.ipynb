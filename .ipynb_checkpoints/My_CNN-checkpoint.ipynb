{
 "cells": [
  {
   "cell_type": "code",
   "execution_count": 1,
   "metadata": {},
   "outputs": [],
   "source": [
    "import pandas as pd\n",
    "import numpy as np\n",
    "import matplotlib.pyplot as plt\n",
    "import h5py\n",
    "import keras\n",
    "from keras.models import Sequential\n",
    "from keras.layers import Dense, Conv2D, Flatten, MaxPooling2D\n",
    "from sklearn.model_selection import train_test_split\n",
    "import sys\n",
    "from sklearn import metrics\n",
    "from keras.models import load_model\n",
    "from sklearn.metrics import roc_auc_score, roc_curve\n",
    "from sklearn.metrics import auc as skAUC\n",
    "from keras.callbacks import EarlyStopping, ModelCheckpoint, CSVLogger, TensorBoard\n",
    "import tensorflow as tf\n",
    "from keras import backend as K\n",
    "import time\n",
    "import glob\n",
    "from tqdm import tqdm\n",
    "import os\n",
    "import csv"
   ]
  },
  {
   "cell_type": "code",
   "execution_count": 2,
   "metadata": {},
   "outputs": [
    {
     "data": {
      "text/plain": [
       "PosixPath('/local_disk/james/Taylor_data/Train/CNN_architecture')"
      ]
     },
     "execution_count": 2,
     "metadata": {},
     "output_type": "execute_result"
    }
   ],
   "source": [
    "import pathlib\n",
    "from keras import backend as K \n",
    "# tf.config.experimental.list_physical_devices('GPU')\n",
    "path = pathlib.Path.cwd()\n",
    "path"
   ]
  },
  {
   "cell_type": "code",
   "execution_count": 3,
   "metadata": {},
   "outputs": [],
   "source": [
    "\n",
    "with open('./best_all_CNN_model_0p3.csv', 'r') as f:\n",
    "    reader = csv.reader(f)\n",
    "    my_list = list(reader)\n",
    "hpdirc = {my_list[0][i]:[my_list[1][i]] for i in range(len(my_list[0]))}\n"
   ]
  },
  {
   "cell_type": "code",
   "execution_count": 4,
   "metadata": {},
   "outputs": [
    {
     "data": {
      "text/plain": [
       "{'learning_rate': ['0.0004'],\n",
       " 'convk_1': ['4'],\n",
       " 'convp_1': ['200'],\n",
       " 'pooling_1': ['3'],\n",
       " 'convk_2': ['1'],\n",
       " 'convp_2': ['248'],\n",
       " 'convk_3': ['2'],\n",
       " 'convp_3': ['192'],\n",
       " 'units_1': ['320'],\n",
       " 'Dropout_1': ['0.3'],\n",
       " 'units_2': ['96'],\n",
       " 'Dropout_2': ['0.1']}"
      ]
     },
     "execution_count": 4,
     "metadata": {},
     "output_type": "execute_result"
    }
   ],
   "source": [
    "hpdirc"
   ]
  },
  {
   "cell_type": "code",
   "execution_count": 5,
   "metadata": {},
   "outputs": [],
   "source": [
    "def get_model(hp):\n",
    "    inputs = tf.keras.Input(shape=(32,32))\n",
    "  \n",
    "    lr = float(hp['learning_rate'][0])\n",
    "#     batch = hp.Int('batch_size', min_value=32, max_value=512, step=16)\n",
    "    convk1 = int(hp['convk_1'][0])\n",
    "    convp1 = int(hp['convp_1'][0])\n",
    "    \n",
    "    pool1 = int(hp['pooling_1'][0])\n",
    "    \n",
    "    convk2 = int(hp['convk_2'][0])\n",
    "    convp2 = int(hp['convp_2'][0])\n",
    "    \n",
    "    \n",
    "    convk3 = int(hp['convk_3'][0])\n",
    "    convp3 = int(hp['convp_3'][0])\n",
    "    \n",
    "    dns1 = int(hp['units_1'][0])\n",
    "    dp1 = float(hp['Dropout_1'][0])\n",
    "    dns2 = int(hp['units_2'][0])\n",
    "    dp2 = float(hp['Dropout_2'][0])\n",
    "    \n",
    "    \n",
    "    x = inputs\n",
    "    x = tf.expand_dims(x,axis=-1)\n",
    "    x = get_filter(1)(x)\n",
    "    x = tf.keras.layers.Conv2D(convp1, kernel_size=(convk1, convk1), activation='relu', input_shape=(32,32,1))(x)\n",
    "#     x = tf.keras.layers.MaxPooling2D(pool_size=(2, 2))(x)\n",
    "    x = tf.keras.layers.MaxPooling2D(pool_size=(pool1, pool1))(x)\n",
    "    \n",
    "#     x = tf.keras.layers.Conv2D(56, kernel_size=(3,3), activation='relu', input_shape=(64,64,32))(x)\n",
    "    x = tf.keras.layers.Conv2D(convp2, kernel_size=(convk2, convk2), activation='relu')(x)\n",
    "    \n",
    "#     x = tf.keras.layers.Conv2D(56, kernel_size=(3,3), activation='relu', input_shape=(15,15,64))(x)\n",
    "    x = tf.keras.layers.Conv2D(convp3, kernel_size=(convk3, convk3), activation='relu')(x)\n",
    "    \n",
    "    x = tf.keras.layers.Flatten()(x)\n",
    "    \n",
    "\n",
    "    x = tf.keras.layers.Dense(dns1, activation='relu')(x)\n",
    "    x = tf.keras.layers.Dropout(dp1)(x)\n",
    "    x = tf.keras.layers.Dense(dns2, activation='relu')(x)\n",
    "    x = tf.keras.layers.Dropout(dp2)(x)\n",
    "    x = tf.keras.layers.Dense(1, activation='sigmoid')(x)\n",
    "    modelCNN_basis = tf.keras.Model(inputs=inputs, outputs=x, name='CNN_basis')\n",
    "    modelCNN_basis.compile(optimizer=keras.optimizers.Adam(lr) ,\n",
    "                     loss=\"binary_crossentropy\",\n",
    "                     metrics=['accuracy'])\n",
    "    print(hp.values)\n",
    "    modelCNN_basis.summary()\n",
    "#     print(\"Droup out :\", dp1, \" \", dp2)\n",
    "#     print(\"lr :\", lr)\n",
    "                           \n",
    "    return modelCNN_basis"
   ]
  },
  {
   "cell_type": "code",
   "execution_count": 6,
   "metadata": {},
   "outputs": [],
   "source": [
    "class get_filter(tf.keras.layers.Layer):\n",
    "    def __init__(self, units=1):\n",
    "        super(get_filter, self).__init__()\n",
    "        self.units = units\n",
    "        \n",
    "    def build(self, input_shape):  # Create the state of the layer (weights)\n",
    "        wq_init = tf.random_normal_initializer()\n",
    "        self.ft = tf.Variable(initial_value=wq_init(shape=( input_shape[1], input_shape[2], self.units), dtype='float32'), trainable=True, name='Basisfinder_ft')\n",
    "        self.shape = input_shape\n",
    "        \n",
    "    def call(self, inputs):  # Defines the computation from inputs to outputs\n",
    "        b = tf.math.abs(self.ft)\n",
    "        return inputs*b"
   ]
  },
  {
   "cell_type": "code",
   "execution_count": 7,
   "metadata": {},
   "outputs": [
    {
     "name": "stdout",
     "output_type": "stream",
     "text": [
      "<built-in method values of dict object at 0x7fc2e03fb360>\n",
      "Model: \"CNN_basis\"\n",
      "_________________________________________________________________\n",
      "Layer (type)                 Output Shape              Param #   \n",
      "=================================================================\n",
      "input_1 (InputLayer)         [(None, 32, 32)]          0         \n",
      "_________________________________________________________________\n",
      "tf_op_layer_ExpandDims (Tens [(None, 32, 32, 1)]       0         \n",
      "_________________________________________________________________\n",
      "get_filter (get_filter)      (None, 32, 32, 1)         1024      \n",
      "_________________________________________________________________\n",
      "conv2d (Conv2D)              (None, 29, 29, 200)       3400      \n",
      "_________________________________________________________________\n",
      "max_pooling2d (MaxPooling2D) (None, 9, 9, 200)         0         \n",
      "_________________________________________________________________\n",
      "conv2d_1 (Conv2D)            (None, 9, 9, 248)         49848     \n",
      "_________________________________________________________________\n",
      "conv2d_2 (Conv2D)            (None, 8, 8, 192)         190656    \n",
      "_________________________________________________________________\n",
      "flatten (Flatten)            (None, 12288)             0         \n",
      "_________________________________________________________________\n",
      "dense (Dense)                (None, 320)               3932480   \n",
      "_________________________________________________________________\n",
      "dropout (Dropout)            (None, 320)               0         \n",
      "_________________________________________________________________\n",
      "dense_1 (Dense)              (None, 96)                30816     \n",
      "_________________________________________________________________\n",
      "dropout_1 (Dropout)          (None, 96)                0         \n",
      "_________________________________________________________________\n",
      "dense_2 (Dense)              (None, 1)                 97        \n",
      "=================================================================\n",
      "Total params: 4,208,321\n",
      "Trainable params: 4,208,321\n",
      "Non-trainable params: 0\n",
      "_________________________________________________________________\n"
     ]
    }
   ],
   "source": [
    "modelCNN_basis = get_model(hpdirc)"
   ]
  },
  {
   "cell_type": "code",
   "execution_count": 8,
   "metadata": {},
   "outputs": [
    {
     "name": "stdout",
     "output_type": "stream",
     "text": [
      "Model: \"CNN_basis\"\n",
      "_________________________________________________________________\n",
      "Layer (type)                 Output Shape              Param #   \n",
      "=================================================================\n",
      "input_1 (InputLayer)         [(None, 32, 32)]          0         \n",
      "_________________________________________________________________\n",
      "tf_op_layer_ExpandDims (Tens [(None, 32, 32, 1)]       0         \n",
      "_________________________________________________________________\n",
      "get_filter (get_filter)      (None, 32, 32, 1)         1024      \n",
      "_________________________________________________________________\n",
      "conv2d (Conv2D)              (None, 29, 29, 200)       3400      \n",
      "_________________________________________________________________\n",
      "max_pooling2d (MaxPooling2D) (None, 9, 9, 200)         0         \n",
      "_________________________________________________________________\n",
      "conv2d_1 (Conv2D)            (None, 9, 9, 248)         49848     \n",
      "_________________________________________________________________\n",
      "conv2d_2 (Conv2D)            (None, 8, 8, 192)         190656    \n",
      "_________________________________________________________________\n",
      "flatten (Flatten)            (None, 12288)             0         \n",
      "_________________________________________________________________\n",
      "dense (Dense)                (None, 320)               3932480   \n",
      "_________________________________________________________________\n",
      "dropout (Dropout)            (None, 320)               0         \n",
      "_________________________________________________________________\n",
      "dense_1 (Dense)              (None, 96)                30816     \n",
      "_________________________________________________________________\n",
      "dropout_1 (Dropout)          (None, 96)                0         \n",
      "_________________________________________________________________\n",
      "dense_2 (Dense)              (None, 1)                 97        \n",
      "=================================================================\n",
      "Total params: 4,208,321\n",
      "Trainable params: 4,208,321\n",
      "Non-trainable params: 0\n",
      "_________________________________________________________________\n"
     ]
    }
   ],
   "source": [
    "\n",
    "i = 3\n",
    "opt = [\"Adadelta\", \"SGD\", \"Adagrad\", \"Adam\"]\n",
    "optn = opt[i]\n",
    "opts = {\"Adadelta\":[tf.keras.optimizers.Adadelta()], \"SGD\":[tf.keras.optimizers.SGD()], \n",
    "        \"Adagrad\":[tf.keras.optimizers.Adagrad()], \"Adam\":[tf.keras.optimizers.Adam(learning_rate = float(hpdirc['learning_rate'][0]))]}\n",
    "optimizer =opts[optn][0]\n",
    "\n",
    "# modelCNN.compile(optimizer='adam', loss=loss_fn, metrics=['accuracy'])\n",
    "modelCNN_basis.compile(optimizer= optimizer, loss=\"binary_crossentropy\", metrics=['accuracy'])\n",
    "\n",
    "modelCNN_basis.summary()"
   ]
  },
  {
   "cell_type": "code",
   "execution_count": 12,
   "metadata": {},
   "outputs": [
    {
     "ename": "NameError",
     "evalue": "name 'rinv' is not defined",
     "output_type": "error",
     "traceback": [
      "\u001b[0;31m---------------------------------------------------------------------------\u001b[0m",
      "\u001b[0;31mNameError\u001b[0m                                 Traceback (most recent call last)",
      "\u001b[0;32m<ipython-input-12-2de8075a8de4>\u001b[0m in \u001b[0;36m<module>\u001b[0;34m\u001b[0m\n\u001b[1;32m     18\u001b[0m \u001b[0;31m# csv_logger = keras.callbacks.CSVLogger(save_dir+'CNN'+rinv+'.csv')\u001b[0m\u001b[0;34m\u001b[0m\u001b[0;34m\u001b[0m\u001b[0;34m\u001b[0m\u001b[0m\n\u001b[1;32m     19\u001b[0m \u001b[0;31m# csv_logger = keras.callbacks.CSVLogger(save_dir+'CNN_'+rinv+'_'+optn+'_filter.csv')\u001b[0m\u001b[0;34m\u001b[0m\u001b[0;34m\u001b[0m\u001b[0;34m\u001b[0m\u001b[0m\n\u001b[0;32m---> 20\u001b[0;31m \u001b[0mcsv_logger\u001b[0m \u001b[0;34m=\u001b[0m \u001b[0mkeras\u001b[0m\u001b[0;34m.\u001b[0m\u001b[0mcallbacks\u001b[0m\u001b[0;34m.\u001b[0m\u001b[0mCSVLogger\u001b[0m\u001b[0;34m(\u001b[0m\u001b[0msave_dir\u001b[0m\u001b[0;34m+\u001b[0m\u001b[0;34m'CNN_all_'\u001b[0m\u001b[0;34m+\u001b[0m\u001b[0mrinv\u001b[0m\u001b[0;34m+\u001b[0m\u001b[0;34m'_'\u001b[0m\u001b[0;34m+\u001b[0m\u001b[0moptn\u001b[0m\u001b[0;34m+\u001b[0m\u001b[0;34m'_filter.csv'\u001b[0m\u001b[0;34m)\u001b[0m\u001b[0;34m\u001b[0m\u001b[0;34m\u001b[0m\u001b[0m\n\u001b[0m\u001b[1;32m     21\u001b[0m \u001b[0;34m\u001b[0m\u001b[0m\n\u001b[1;32m     22\u001b[0m \u001b[0;34m\u001b[0m\u001b[0m\n",
      "\u001b[0;31mNameError\u001b[0m: name 'rinv' is not defined"
     ]
    }
   ],
   "source": [
    "model_type = \"CNN_basis\"\n",
    "save_dir = './Keras_Tunner/'\n",
    "model_name = '%s_model.test.h5' % model_type\n",
    "if not os.path.isdir(save_dir):\n",
    "    os.makedirs(save_dir)\n",
    "filepath = os.path.join(save_dir, model_name)\n",
    "\n",
    "# Prepare callbacks for model saving and for learning rate adjustment.\n",
    "checkpoint = keras.callbacks.ModelCheckpoint(filepath=filepath,\n",
    "                             monitor='val_acc',\n",
    "                             verbose=1,\n",
    "                             save_best_only=True)\n",
    "\n",
    "# lr_scheduler = keras.callbacks.LearningRateScheduler(lr_schedule)\n",
    "\n",
    "# progress_bar = keras.callbacks.ProgbarLogger()\n",
    "\n",
    "# csv_logger = keras.callbacks.CSVLogger(save_dir+'CNN'+rinv+'.csv')\n",
    "# csv_logger = keras.callbacks.CSVLogger(save_dir+'CNN_'+rinv+'_'+optn+'_filter.csv')\n",
    "csv_logger = keras.callbacks.CSVLogger(save_dir+'CNN_all_'+rinv+'_'+optn+'_filter.csv')\n",
    "\n",
    "\n",
    "earlystop = tf.keras.callbacks.EarlyStopping(\n",
    "                            monitor='val_loss',\n",
    "                            min_delta=1e-4,\n",
    "                            patience=3,\n",
    "                            verbose=1,\n",
    "                            mode='min', baseline=None, ## 'min' \n",
    "                            restore_best_weights=True)\n",
    "# reduce_lr = tf.keras.callbacks.ReduceLROnPlateau(monitor='val_loss', factor=0.2,\n",
    "#                               patience=2, min_lr=0.00001)\n",
    "callbacks = [checkpoint, csv_logger,  earlystop ]\n"
   ]
  },
  {
   "cell_type": "code",
   "execution_count": null,
   "metadata": {},
   "outputs": [],
   "source": [
    "modelCNN_basis.fit(Xim_train, yim_train , validation_data=(Xim_val, yim_val), callbacks = callbacks, shuffle=True , epochs=400, verbose=0)"
   ]
  },
  {
   "cell_type": "code",
   "execution_count": null,
   "metadata": {},
   "outputs": [],
   "source": []
  },
  {
   "cell_type": "code",
   "execution_count": null,
   "metadata": {},
   "outputs": [],
   "source": []
  },
  {
   "cell_type": "code",
   "execution_count": null,
   "metadata": {},
   "outputs": [],
   "source": []
  }
 ],
 "metadata": {
  "kernelspec": {
   "display_name": "Python 3",
   "language": "python",
   "name": "python3"
  },
  "language_info": {
   "codemirror_mode": {
    "name": "ipython",
    "version": 3
   },
   "file_extension": ".py",
   "mimetype": "text/x-python",
   "name": "python",
   "nbconvert_exporter": "python",
   "pygments_lexer": "ipython3",
   "version": "3.6.9"
  }
 },
 "nbformat": 4,
 "nbformat_minor": 4
}
